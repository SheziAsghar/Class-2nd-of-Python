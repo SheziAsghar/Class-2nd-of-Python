{
 "cells": [
  {
   "cell_type": "code",
   "execution_count": null,
   "metadata": {},
   "outputs": [],
   "source": [
    "'''There is not a hard nut to crack understanding Python concepts thoroughly, now. Only because of me ! ;)\n",
    "At whose behest am i making these repositories? no one else. Actually, i love Learning & Teaching'''"
   ]
  },
  {
   "cell_type": "code",
   "execution_count": 22,
   "metadata": {},
   "outputs": [
    {
     "name": "stdout",
     "output_type": "stream",
     "text": [
      "What is your age? 18\n",
      "You're allowed to ride!\n"
     ]
    }
   ],
   "source": [
    "'''(>=) more than or equal to'''\n",
    "\n",
    "age = int(input(\"What is your age? \"))\n",
    "if age >= 18 :\n",
    " print(\"You're allowed to ride!\")\n",
    "else :\n",
    " print(\"You're not allowed to ride!\")"
   ]
  },
  {
   "cell_type": "code",
   "execution_count": 18,
   "metadata": {},
   "outputs": [
    {
     "name": "stdout",
     "output_type": "stream",
     "text": [
      "Your ans is correct!\n"
     ]
    }
   ],
   "source": [
    "'''(==) equal to'''\n",
    "\n",
    "x=20;\n",
    "y=20;\n",
    "a=50;\n",
    "b=10;\n",
    "\n",
    "if x + y == a - b :\n",
    "    print(\"Your ans is correct!\")\n",
    "else :\n",
    "    print(\"Your ans is wrong!\") ;"
   ]
  },
  {
   "cell_type": "code",
   "execution_count": 21,
   "metadata": {},
   "outputs": [
    {
     "name": "stdout",
     "output_type": "stream",
     "text": [
      "Your ans is wrong!\n"
     ]
    }
   ],
   "source": [
    "'''(!=) not equal to'''\n",
    "\n",
    "x=20;\n",
    "y=20;\n",
    "a=50;\n",
    "b=10;\n",
    "\n",
    "if x + y != a - b :\n",
    "    print(\"Your ans is correct!\")\n",
    "else :\n",
    "    print(\"Your ans is wrong!\") ;"
   ]
  },
  {
   "cell_type": "code",
   "execution_count": 43,
   "metadata": {},
   "outputs": [
    {
     "name": "stdout",
     "output_type": "stream",
     "text": [
      "Enter your Percentage %83\n",
      "Grade A+\n"
     ]
    }
   ],
   "source": [
    "'''This is a Python application'''\n",
    "\n",
    "per = int(input(\"Enter your Percentage %\"));\n",
    "if per >= 80 and per <= 100 :\n",
    "    print(\"Grade A+\")\n",
    "elif per >= 70 and per < 80 :\n",
    "    print(\"Grade A\")\n",
    "elif per >= 60 and per < 70 :\n",
    "    print(\"Grade B\")\n",
    "elif per >= 0 and per < 60 :\n",
    "    print(\"Failed!\")\n",
    "else :\n",
    "    print(\"You have given an inappropriate %tage\")"
   ]
  },
  {
   "cell_type": "code",
   "execution_count": 49,
   "metadata": {},
   "outputs": [
    {
     "name": "stdout",
     "output_type": "stream",
     "text": [
      "10\n"
     ]
    }
   ],
   "source": [
    "'''if statements nested'''\n",
    "\n",
    "a=20;\n",
    "b=10;\n",
    "x=10;\n",
    "y=10;\n",
    "c=30;\n",
    "d=15+15;\n",
    "g=10;\n",
    "h=10;\n",
    "e=20;\n",
    "f=0;\n",
    "\n",
    "if (x == y or a == b) and c == d:\n",
    "  g = h\n",
    "  print(g)\n",
    "else:\n",
    "  e = f\n",
    "  print(e)"
   ]
  },
  {
   "cell_type": "code",
   "execution_count": 53,
   "metadata": {},
   "outputs": [
    {
     "name": "stdout",
     "output_type": "stream",
     "text": [
      "['Shezi', 'Mustafa', 'Hammad', 25, False, 0.9]\n"
     ]
    }
   ],
   "source": [
    "'''Lists'''\n",
    "\n",
    "arr = [\"Shezi\",\"Mustafa\",\"Hammad\",25,False,0.9]\n",
    "print(arr)"
   ]
  },
  {
   "cell_type": "code",
   "execution_count": 60,
   "metadata": {},
   "outputs": [
    {
     "name": "stdout",
     "output_type": "stream",
     "text": [
      "Shezi\n",
      "Mustafa\n",
      "Hammad\n",
      "25\n",
      "False\n",
      "0.9\n"
     ]
    }
   ],
   "source": [
    "print(arr[0])\n",
    "print(arr[1])\n",
    "print(arr[2])\n",
    "print(arr[3])\n",
    "print(arr[4])\n",
    "print(arr[5])"
   ]
  },
  {
   "cell_type": "code",
   "execution_count": 61,
   "metadata": {},
   "outputs": [
    {
     "name": "stdout",
     "output_type": "stream",
     "text": [
      "['Shezi', 'Mustafa', 'Hammad', 25, False, 0.9, 'Shaheer']\n"
     ]
    }
   ],
   "source": [
    "'''Adding value in array with the help of arr.append & It'\\ll add in the end of array values'''\n",
    "\n",
    "arr.append(\"Shaheer\")\n",
    "print(arr)"
   ]
  },
  {
   "cell_type": "code",
   "execution_count": 63,
   "metadata": {},
   "outputs": [
    {
     "name": "stdout",
     "output_type": "stream",
     "text": [
      "['Shezi', 'Mustafa', 'Hammad', 25, False, 0.9, 'Shaheer', 'Hassan', 'Rehman']\n"
     ]
    }
   ],
   "source": [
    "arr1 = arr + [\"Hassan\", \"Rehman\"]\n",
    "print(arr1)"
   ]
  },
  {
   "cell_type": "code",
   "execution_count": 74,
   "metadata": {},
   "outputs": [
    {
     "name": "stdout",
     "output_type": "stream",
     "text": [
      "['Shezi', 'Mustafa', 'Shah', '', 'Shah', 'Shah', 'Shah', 'Shah', 'Shah', 'Shah', 'Hammad', 25, False, 0.9, 'Shaheer', 'Hassan', 'Rehman']\n"
     ]
    }
   ],
   "source": [
    "'''Inserting value at particluar place with the help of arr.insert'''\n",
    "\n",
    "arr1.insert(2, \"Shah\")\n",
    "print(arr1)"
   ]
  },
  {
   "cell_type": "code",
   "execution_count": 75,
   "metadata": {},
   "outputs": [
    {
     "name": "stdout",
     "output_type": "stream",
     "text": [
      "['Shezi', 'Mustafa', 'Shah', '', 'Shah', 'Shah', 'Shah', 'Shah', 'Shah', 'Shah', 'Hammad', 25, True, 0.9, 'Shaheer', 'Hassan', 'Rehman']\n"
     ]
    }
   ],
   "source": [
    "'''We can change value too By identifying the value of index'''\n",
    "\n",
    "arr1[12] = True\n",
    "print(arr1)"
   ]
  },
  {
   "cell_type": "code",
   "execution_count": 84,
   "metadata": {},
   "outputs": [
    {
     "name": "stdout",
     "output_type": "stream",
     "text": [
      "['', 'Shah', 'Shah', 'Shah', 'Shah', 'Shah', 'Shah']\n"
     ]
    }
   ],
   "source": [
    "'''Taking slices out of them with the help of [3 : 10]'''\n",
    "\n",
    "arr2 = arr1[3 : 10]\n",
    "print(arr2)"
   ]
  },
  {
   "cell_type": "code",
   "execution_count": 85,
   "metadata": {},
   "outputs": [
    {
     "name": "stdout",
     "output_type": "stream",
     "text": [
      "['Shezi', 'Mustafa', 'Shah', 'Hammad', 25]\n"
     ]
    }
   ],
   "source": [
    "arr3 = arr[:5]\n",
    "print(arr3)"
   ]
  },
  {
   "cell_type": "code",
   "execution_count": 98,
   "metadata": {},
   "outputs": [
    {
     "name": "stdout",
     "output_type": "stream",
     "text": [
      "['Shezi', 'Mustafa', 'Shah', 'Hammad', 25, False, 0.9, 'Shaheer']\n",
      "['Shezi', 'Mustafa', 'Shah', 'Hammad', True, 'Shaheer', 'Hassan', 'Rehman']\n",
      "['', 'Shah', 'Shah', 'Shah', 'Shah', 'Shah', 'Shah']\n",
      "['Shezi', 'Mustafa', 'Shah', 'Hammad', 25]\n"
     ]
    }
   ],
   "source": [
    "print(arr)\n",
    "print(arr1)\n",
    "print(arr2)\n",
    "print(arr3)"
   ]
  },
  {
   "cell_type": "code",
   "execution_count": 99,
   "metadata": {},
   "outputs": [
    {
     "name": "stdout",
     "output_type": "stream",
     "text": [
      "['Shezi', 'Mustafa', 'Shah', True, 'Shaheer', 'Hassan', 'Rehman']\n"
     ]
    }
   ],
   "source": [
    "'''Deleting a particular array with the help of del but by giving index number'''\n",
    "\n",
    "del arr1[3]\n",
    "print(arr1)"
   ]
  },
  {
   "cell_type": "code",
   "execution_count": 105,
   "metadata": {},
   "outputs": [
    {
     "name": "stdout",
     "output_type": "stream",
     "text": [
      "['Shezi', 'Mustafa', 'Shah', 'Hassan', 'Rehman']\n"
     ]
    }
   ],
   "source": [
    "'''Deleting a particular array with the help of .remove(\"\") but by giving direct element'''\n",
    "\n",
    "arr1.remove(True)\n",
    "print(arr1)"
   ]
  },
  {
   "cell_type": "code",
   "execution_count": 107,
   "metadata": {},
   "outputs": [
    {
     "name": "stdout",
     "output_type": "stream",
     "text": [
      "Rehman\n"
     ]
    }
   ],
   "source": [
    "'''Popping elements, it always catches element from at the end with the help of .pop() & Example is below'''\n",
    "\n",
    "arr4 = arr1.pop()\n",
    "print(arr4)"
   ]
  },
  {
   "cell_type": "code",
   "execution_count": null,
   "metadata": {},
   "outputs": [],
   "source": []
  }
 ],
 "metadata": {
  "kernelspec": {
   "display_name": "Python 3",
   "language": "python",
   "name": "python3"
  },
  "language_info": {
   "codemirror_mode": {
    "name": "ipython",
    "version": 3
   },
   "file_extension": ".py",
   "mimetype": "text/x-python",
   "name": "python",
   "nbconvert_exporter": "python",
   "pygments_lexer": "ipython3",
   "version": "3.7.4"
  }
 },
 "nbformat": 4,
 "nbformat_minor": 2
}
